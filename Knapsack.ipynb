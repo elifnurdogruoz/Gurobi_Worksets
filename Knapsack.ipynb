{
 "cells": [
  {
   "cell_type": "code",
   "execution_count": 1,
   "id": "56b0cc16-6550-4503-a60a-495bc41bb018",
   "metadata": {},
   "outputs": [
    {
     "name": "stdout",
     "output_type": "stream",
     "text": [
      "Requirement already satisfied: gurobipy in /Users/elifnurdogruoz/.pyenv/versions/3.9.7/lib/python3.9/site-packages (12.0.1)\n",
      "\u001b[33mWARNING: You are using pip version 21.2.3; however, version 25.0.1 is available.\n",
      "You should consider upgrading via the '/Users/elifnurdogruoz/.pyenv/versions/3.9.7/bin/python -m pip install --upgrade pip' command.\u001b[0m\n",
      "Note: you may need to restart the kernel to use updated packages.\n"
     ]
    }
   ],
   "source": [
    "%pip install gurobipy\n",
    "\n",
    "import gurobipy as gp\n",
    "from gurobipy import GRB\n",
    "\n",
    "#Data\n",
    "costs = [10, 20, 30, 15, 25]\n",
    "values = [60, 100, 120, 75, 85]\n",
    "capacity = 50\n",
    "n = len(costs)\n",
    "\n"
   ]
  },
  {
   "cell_type": "code",
   "execution_count": 2,
   "id": "ed330cf8-c8c3-4436-8a34-9db40b31cac1",
   "metadata": {},
   "outputs": [
    {
     "name": "stdout",
     "output_type": "stream",
     "text": [
      "Set parameter Username\n",
      "Set parameter LicenseID to value 2604515\n"
     ]
    }
   ],
   "source": [
    "m = gp.Model('Knapsack')"
   ]
  },
  {
   "cell_type": "code",
   "execution_count": 4,
   "id": "03e5fc76-83f0-44ec-a333-e8389ca29e08",
   "metadata": {},
   "outputs": [],
   "source": [
    "#Decision variable \n",
    "x = m.addVars(n, vtype=GRB.BINARY, name=\"x\")"
   ]
  },
  {
   "cell_type": "code",
   "execution_count": 6,
   "id": "1153f574-8a80-4aef-bba0-349821ecd0ee",
   "metadata": {},
   "outputs": [
    {
     "data": {
      "text/plain": [
       "<gurobi.Constr *Awaiting Model Update*>"
      ]
     },
     "execution_count": 6,
     "metadata": {},
     "output_type": "execute_result"
    }
   ],
   "source": [
    "#Budget constraint\n",
    "m.addConstr(sum(costs[i]*x[i] for i in range(n)) <= capacity, \"Budget_Constraint\")"
   ]
  },
  {
   "cell_type": "code",
   "execution_count": 8,
   "id": "97d815ad-7f2e-431a-9ae3-ed8c990fa6b0",
   "metadata": {},
   "outputs": [],
   "source": [
    "#Objective\n",
    "m.setObjective(sum(values[i]*x[i] for i in range(n)), GRB.MAXIMIZE)"
   ]
  },
  {
   "cell_type": "code",
   "execution_count": 10,
   "id": "24427fef-09fa-4ded-81b1-7d0e9e7563f2",
   "metadata": {},
   "outputs": [
    {
     "name": "stdout",
     "output_type": "stream",
     "text": [
      "Gurobi Optimizer version 12.0.1 build v12.0.1rc0 (mac64[x86] - Darwin 24.3.0 24D81)\n",
      "\n",
      "CPU model: Intel(R) Core(TM) i7-8850H CPU @ 2.60GHz\n",
      "Thread count: 6 physical cores, 12 logical processors, using up to 12 threads\n",
      "\n",
      "Optimize a model with 1 rows, 5 columns and 5 nonzeros\n",
      "Model fingerprint: 0x762098dd\n",
      "Variable types: 0 continuous, 5 integer (5 binary)\n",
      "Coefficient statistics:\n",
      "  Matrix range     [1e+01, 3e+01]\n",
      "  Objective range  [6e+01, 1e+02]\n",
      "  Bounds range     [1e+00, 1e+00]\n",
      "  RHS range        [5e+01, 5e+01]\n",
      "Found heuristic solution: objective 235.0000000\n",
      "Presolve removed 1 rows and 5 columns\n",
      "Presolve time: 0.00s\n",
      "Presolve: All rows and columns removed\n",
      "\n",
      "Explored 0 nodes (0 simplex iterations) in 0.01 seconds (0.00 work units)\n",
      "Thread count was 1 (of 12 available processors)\n",
      "\n",
      "Solution count 1: 235 \n",
      "\n",
      "Optimal solution found (tolerance 1.00e-04)\n",
      "Best objective 2.350000000000e+02, best bound 2.350000000000e+02, gap 0.0000%\n"
     ]
    }
   ],
   "source": [
    "m.optimize()"
   ]
  },
  {
   "cell_type": "code",
   "execution_count": 15,
   "id": "9e5607d1-2081-4bb7-ac3a-c1d70dae4d79",
   "metadata": {},
   "outputs": [
    {
     "name": "stdout",
     "output_type": "stream",
     "text": [
      "x[0] 1.0\n",
      "x[1] 1.0\n",
      "x[3] 1.0\n",
      "Total value:  235.0\n"
     ]
    }
   ],
   "source": [
    "# Display optimal values of decision variables\n",
    "for v in m.getVars():\n",
    "    if v.x > 0:\n",
    "        print(v.varName, v.x)\n",
    "\n",
    "# Display optimal total matching score\n",
    "print('Total value: ', m.objVal)"
   ]
  },
  {
   "cell_type": "code",
   "execution_count": 17,
   "id": "5c298aca-8de3-4644-af7b-705a98b37943",
   "metadata": {},
   "outputs": [
    {
     "name": "stdout",
     "output_type": "stream",
     "text": [
      "Optimal solution: 235.0\n",
      "Items selected: [0, 1, 3]\n"
     ]
    }
   ],
   "source": [
    "#Alternative display\n",
    "if m.status == GRB.OPTIMAL:\n",
    "    print(f\"Optimal solution: {m.objVal}\")\n",
    "    selected_items = [i for i in range(n) if x[i].x > 0.5]  \n",
    "    print(\"Items selected:\", selected_items)\n",
    "else:\n",
    "    print(\"No optimal solution found\")"
   ]
  },
  {
   "cell_type": "code",
   "execution_count": null,
   "id": "0e0b3f14-d9cc-4ae4-860b-98a029b56b79",
   "metadata": {},
   "outputs": [],
   "source": []
  }
 ],
 "metadata": {
  "kernelspec": {
   "display_name": "Python 3 (ipykernel)",
   "language": "python",
   "name": "python3"
  },
  "language_info": {
   "codemirror_mode": {
    "name": "ipython",
    "version": 3
   },
   "file_extension": ".py",
   "mimetype": "text/x-python",
   "name": "python",
   "nbconvert_exporter": "python",
   "pygments_lexer": "ipython3",
   "version": "3.9.7"
  }
 },
 "nbformat": 4,
 "nbformat_minor": 5
}
