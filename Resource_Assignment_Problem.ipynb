{
 "cells": [
  {
   "cell_type": "code",
   "execution_count": 1,
   "id": "e5b26bca-2949-4adc-8dc2-9a6beb8ff94a",
   "metadata": {},
   "outputs": [
    {
     "name": "stdout",
     "output_type": "stream",
     "text": [
      "Requirement already satisfied: gurobipy in ./.pyenv/versions/3.9.7/lib/python3.9/site-packages (12.0.1)\n",
      "\u001b[33mWARNING: You are using pip version 21.2.3; however, version 25.0.1 is available.\n",
      "You should consider upgrading via the '/Users/elifnurdogruoz/.pyenv/versions/3.9.7/bin/python -m pip install --upgrade pip' command.\u001b[0m\n",
      "Note: you may need to restart the kernel to use updated packages.\n"
     ]
    }
   ],
   "source": [
    "%pip install gurobipy\n",
    "\n",
    "import gurobipy as gp\n",
    "from gurobipy import GRB"
   ]
  },
  {
   "cell_type": "code",
   "execution_count": 2,
   "id": "48ae77b6-c5cb-4a5f-8175-acda3ea3ee1e",
   "metadata": {},
   "outputs": [],
   "source": [
    "# Resource and job sets\n",
    "R = ['R1', 'R2', 'R3']\n",
    "J = ['J1', 'J2', 'J3']"
   ]
  },
  {
   "cell_type": "code",
   "execution_count": 3,
   "id": "7b804050-15c4-471a-a66d-2cfcff7ac91b",
   "metadata": {},
   "outputs": [],
   "source": [
    "# Matching score data\n",
    "combinations, scores = gp.multidict({\n",
    "    ('R1', 'J1'): 53,\n",
    "    ('R2', 'J2'): 27,\n",
    "    ('R1', 'J3'): 13,\n",
    "    ('R2', 'J1'): 80,\n",
    "    ('R2', 'J2'): 47,\n",
    "    ('R2', 'J3'): 67,\n",
    "    ('R3', 'J1'): 53,\n",
    "    ('R3', 'J2'): 73,\n",
    "    ('R3', 'J3'): 47\n",
    "})"
   ]
  },
  {
   "cell_type": "code",
   "execution_count": 4,
   "id": "684d5b41-689c-422e-98f6-ab48700117a0",
   "metadata": {},
   "outputs": [
    {
     "name": "stdout",
     "output_type": "stream",
     "text": [
      "Set parameter Username\n",
      "Set parameter LicenseID to value 2604515\n"
     ]
    }
   ],
   "source": [
    "# Declare and initialize model\n",
    "m = gp.Model('RAP')"
   ]
  },
  {
   "cell_type": "code",
   "execution_count": 5,
   "id": "6e6fb13f-f147-410f-b347-ffd511fcab4a",
   "metadata": {},
   "outputs": [],
   "source": [
    "# Create decision variables for the RAP model\n",
    "x = m.addVars(combinations, name=\"assign\")"
   ]
  },
  {
   "cell_type": "code",
   "execution_count": 6,
   "id": "fc112114-09f0-4994-9668-964dfaf1da03",
   "metadata": {},
   "outputs": [],
   "source": [
    "# Create job constraints\n",
    "jobs = m.addConstrs((x.sum('*',j) == 1 for j in J), name='job')"
   ]
  },
  {
   "cell_type": "code",
   "execution_count": 7,
   "id": "22ec905a-88f2-4e40-a964-51746133e10d",
   "metadata": {},
   "outputs": [],
   "source": [
    "# Create resource constraints\n",
    "resources = m.addConstrs((x.sum(r,'*') <= 1 for r in R), name='resource')"
   ]
  },
  {
   "cell_type": "code",
   "execution_count": 8,
   "id": "b9a7622c-f315-4ac5-9021-d0b759f738db",
   "metadata": {},
   "outputs": [],
   "source": [
    "# Objective: maximize total matching score of all assignments\n",
    "m.setObjective(x.prod(scores), GRB.MAXIMIZE)"
   ]
  },
  {
   "cell_type": "code",
   "execution_count": 9,
   "id": "5e3e7e3c-f88c-4a7d-a1f6-27814c193991",
   "metadata": {},
   "outputs": [],
   "source": [
    "# Save model for inspection\n",
    "#m.write('RAP.lp')"
   ]
  },
  {
   "cell_type": "code",
   "execution_count": 10,
   "id": "05ca3d68-a715-48cb-aff5-f0e88e41cc92",
   "metadata": {},
   "outputs": [
    {
     "name": "stdout",
     "output_type": "stream",
     "text": [
      "Gurobi Optimizer version 12.0.1 build v12.0.1rc0 (mac64[x86] - Darwin 24.3.0 24D81)\n",
      "\n",
      "CPU model: Intel(R) Core(TM) i7-8850H CPU @ 2.60GHz\n",
      "Thread count: 6 physical cores, 12 logical processors, using up to 12 threads\n",
      "\n",
      "Optimize a model with 6 rows, 8 columns and 16 nonzeros\n",
      "Model fingerprint: 0x1802ac9b\n",
      "Coefficient statistics:\n",
      "  Matrix range     [1e+00, 1e+00]\n",
      "  Objective range  [1e+01, 8e+01]\n",
      "  Bounds range     [0e+00, 0e+00]\n",
      "  RHS range        [1e+00, 1e+00]\n",
      "Presolve removed 1 rows and 1 columns\n",
      "Presolve time: 0.01s\n",
      "Presolved: 5 rows, 7 columns, 14 nonzeros\n",
      "\n",
      "Iteration    Objective       Primal Inf.    Dual Inf.      Time\n",
      "       0    2.2000000e+02   1.000000e+00   0.000000e+00      0s\n",
      "       2    1.9300000e+02   0.000000e+00   0.000000e+00      0s\n",
      "\n",
      "Solved in 2 iterations and 0.02 seconds (0.00 work units)\n",
      "Optimal objective  1.930000000e+02\n"
     ]
    }
   ],
   "source": [
    "# Run optimization engine\n",
    "m.optimize()"
   ]
  },
  {
   "cell_type": "code",
   "execution_count": 11,
   "id": "9227d1b4-9a9f-42b5-a701-938c0a95d08e",
   "metadata": {},
   "outputs": [
    {
     "name": "stdout",
     "output_type": "stream",
     "text": [
      "assign[R1,J1] 1.0\n",
      "assign[R2,J3] 1.0\n",
      "assign[R3,J2] 1.0\n",
      "Total matching score:  193.0\n"
     ]
    }
   ],
   "source": [
    "# Display optimal values of decision variables\n",
    "for v in m.getVars():\n",
    "    if v.x > 1e-6:\n",
    "        print(v.varName, v.x)\n",
    "\n",
    "# Display optimal total matching score\n",
    "print('Total matching score: ', m.objVal)"
   ]
  },
  {
   "cell_type": "code",
   "execution_count": null,
   "id": "826eff5f-5122-424f-9969-7f5ec38dce49",
   "metadata": {},
   "outputs": [],
   "source": []
  }
 ],
 "metadata": {
  "kernelspec": {
   "display_name": "Python 3 (ipykernel)",
   "language": "python",
   "name": "python3"
  },
  "language_info": {
   "codemirror_mode": {
    "name": "ipython",
    "version": 3
   },
   "file_extension": ".py",
   "mimetype": "text/x-python",
   "name": "python",
   "nbconvert_exporter": "python",
   "pygments_lexer": "ipython3",
   "version": "3.9.7"
  }
 },
 "nbformat": 4,
 "nbformat_minor": 5
}
